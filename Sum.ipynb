{
 "cells": [
  {
   "cell_type": "code",
   "execution_count": null,
   "id": "cfb9590e",
   "metadata": {},
   "outputs": [],
   "source": [
    "#Given an array of integers, find the sum of its elements. For example, if the array ar = [1,2,3], Calculate 1+2+3 = 6, so return 6."
   ]
  },
  {
   "cell_type": "code",
   "execution_count": 8,
   "id": "ad3b7f46-3944-411d-ab87-03d4f7736e0c",
   "metadata": {},
   "outputs": [
    {
     "name": "stdout",
     "output_type": "stream",
     "text": [
      "6\n"
     ]
    }
   ],
   "source": [
    "array = [1, 2, 3]\n",
    "result = sum(array)\n",
    "print(result)\n"
   ]
  },
  {
   "cell_type": "code",
   "execution_count": null,
   "id": "95f08a69-6f07-4a2e-a992-2b6f633132df",
   "metadata": {},
   "outputs": [],
   "source": [
    "\n",
    "\n",
    "\n"
   ]
  }
 ],
 "metadata": {
  "kernelspec": {
   "display_name": "Python 3 (ipykernel)",
   "language": "python",
   "name": "python3"
  },
  "language_info": {
   "codemirror_mode": {
    "name": "ipython",
    "version": 3
   },
   "file_extension": ".py",
   "mimetype": "text/x-python",
   "name": "python",
   "nbconvert_exporter": "python",
   "pygments_lexer": "ipython3",
   "version": "3.10.10"
  }
 },
 "nbformat": 4,
 "nbformat_minor": 5
}
